{
  "nbformat": 4,
  "nbformat_minor": 0,
  "metadata": {
    "colab": {
      "name": "CNN-MNIST.ipynb",
      "provenance": [],
      "authorship_tag": "ABX9TyMx9+lvwIt0ccbaV1MrebZ9",
      "include_colab_link": true
    },
    "kernelspec": {
      "name": "python3",
      "display_name": "Python 3"
    }
  },
  "cells": [
    {
      "cell_type": "markdown",
      "metadata": {
        "id": "view-in-github",
        "colab_type": "text"
      },
      "source": [
        "<a href=\"https://colab.research.google.com/github/aiyer31/TensorFlow-Tutorials/blob/master/CNN_MNIST.ipynb\" target=\"_parent\"><img src=\"https://colab.research.google.com/assets/colab-badge.svg\" alt=\"Open In Colab\"/></a>"
      ]
    },
    {
      "cell_type": "markdown",
      "metadata": {
        "id": "VQ3JUcdP1vbX"
      },
      "source": [
        "#Aiming to try to write by own basic CNN to predict images in the MNIST dataset."
      ]
    },
    {
      "cell_type": "markdown",
      "metadata": {
        "id": "aBeGHfdZ2B-H"
      },
      "source": [
        "## Architecture"
      ]
    },
    {
      "cell_type": "markdown",
      "metadata": {
        "id": "UNfFhirW2EUD"
      },
      "source": [
        "Each image is 28x28. \n",
        "Layer 1: Convolution of 5x5. Using 5x5 because the intuition is that a tapering kernel size will capture the general features followed by specific features. **Is this true?** We can use max pooling.\n",
        "\n",
        "Layer 2: Now that we have our feature map which is 24x24, let us apply another 3x3 filter on them. \n",
        "\n",
        "Layer 3: The resulting feature map is 22x22. We use a fully connected layer.\n",
        "\n",
        "Layer 4: Softmax for prediction"
      ]
    },
    {
      "cell_type": "markdown",
      "metadata": {
        "id": "wsAXQkzi13sJ"
      },
      "source": [
        "### Imports\n",
        "\n",
        "\n"
      ]
    },
    {
      "cell_type": "code",
      "metadata": {
        "id": "5Y9SQyd65MNB"
      },
      "source": [
        "%matplotlib inline\n",
        "import matplotlib.pyplot as plt\n",
        "import numpy as np\n",
        "from sklearn.metrics import confusion_matrix\n",
        "import time\n",
        "from datetime import timedelta\n",
        "import math"
      ],
      "execution_count": 1,
      "outputs": []
    },
    {
      "cell_type": "code",
      "metadata": {
        "colab": {
          "base_uri": "https://localhost:8080/"
        },
        "id": "uo_zxWrQ5NB4",
        "outputId": "dd39cec2-2c92-47d3-e0f0-e70b9f0ca6f5"
      },
      "source": [
        "# Use TensorFlow v.2 with this old v.1 code.\n",
        "# E.g. placeholder variables and sessions have changed in TF2.\n",
        "import tensorflow.compat.v1 as tf\n",
        "tf.disable_v2_behavior()"
      ],
      "execution_count": 2,
      "outputs": [
        {
          "output_type": "stream",
          "text": [
            "WARNING:tensorflow:From /usr/local/lib/python3.6/dist-packages/tensorflow/python/compat/v2_compat.py:96: disable_resource_variables (from tensorflow.python.ops.variable_scope) is deprecated and will be removed in a future version.\n",
            "Instructions for updating:\n",
            "non-resource variables are not supported in the long term\n"
          ],
          "name": "stdout"
        }
      ]
    },
    {
      "cell_type": "code",
      "metadata": {
        "colab": {
          "base_uri": "https://localhost:8080/",
          "height": 35
        },
        "id": "2NQgB7d55Oxd",
        "outputId": "3c60014b-c09b-423d-b3fe-680ae0723fac"
      },
      "source": [
        "tf.__version__"
      ],
      "execution_count": 3,
      "outputs": [
        {
          "output_type": "execute_result",
          "data": {
            "application/vnd.google.colaboratory.intrinsic+json": {
              "type": "string"
            },
            "text/plain": [
              "'2.4.0'"
            ]
          },
          "metadata": {
            "tags": []
          },
          "execution_count": 3
        }
      ]
    },
    {
      "cell_type": "markdown",
      "metadata": {
        "id": "P3aZjHRD5SoU"
      },
      "source": [
        "## Load Data"
      ]
    },
    {
      "cell_type": "code",
      "metadata": {
        "colab": {
          "base_uri": "https://localhost:8080/"
        },
        "id": "S6Dc4Yuy5sFT",
        "outputId": "51b0fc86-1f5a-4dbc-9461-ab4b651b8bfb"
      },
      "source": [
        "# Clone the repository from GitHub to Google Colab's temporary drive.\n",
        "import os\n",
        "work_dir = \"/content/TensorFlow-Tutorials/\"\n",
        "if not os.path.exists(work_dir):\n",
        "    !git clone https://github.com/Hvass-Labs/TensorFlow-Tutorials.git\n",
        "os.chdir(work_dir)"
      ],
      "execution_count": 5,
      "outputs": [
        {
          "output_type": "stream",
          "text": [
            "Cloning into 'TensorFlow-Tutorials'...\n",
            "remote: Enumerating objects: 506, done.\u001b[K\n",
            "remote: Total 506 (delta 0), reused 0 (delta 0), pack-reused 506\u001b[K\n",
            "Receiving objects: 100% (506/506), 66.10 MiB | 31.11 MiB/s, done.\n",
            "Resolving deltas: 100% (241/241), done.\n"
          ],
          "name": "stdout"
        }
      ]
    },
    {
      "cell_type": "code",
      "metadata": {
        "colab": {
          "base_uri": "https://localhost:8080/"
        },
        "id": "iUujMNOL5WMA",
        "outputId": "3171a10f-8e5f-4464-8655-38e40d74db52"
      },
      "source": [
        "from mnist import MNIST\n",
        "data = MNIST(data_dir=\"data/MNIST/\")"
      ],
      "execution_count": 6,
      "outputs": [
        {
          "output_type": "stream",
          "text": [
            "Downloading train-images-idx3-ubyte.gz ...\n",
            "- Download progress: 100.0% Done!\n",
            "Downloading train-labels-idx1-ubyte.gz ...\n",
            "- Download progress: 100.0% Done!\n",
            "Downloading t10k-images-idx3-ubyte.gz ...\n",
            "- Download progress: 100.0% Done!\n",
            "Downloading t10k-labels-idx1-ubyte.gz ...\n",
            "- Download progress: 100.0% Done!\n"
          ],
          "name": "stdout"
        }
      ]
    },
    {
      "cell_type": "code",
      "metadata": {
        "id": "pshaBb8x5xa6"
      },
      "source": [
        ""
      ],
      "execution_count": null,
      "outputs": []
    }
  ]
}